{
 "cells": [
  {
   "cell_type": "code",
   "execution_count": 1,
   "id": "575d0ca6-0bf8-4dc2-8ceb-b1e035e19bd6",
   "metadata": {},
   "outputs": [],
   "source": [
    "import pandas as pd\n",
    "import numpy as np\n",
    "import scipy.optimize"
   ]
  },
  {
   "cell_type": "code",
   "execution_count": 120,
   "id": "414956cc-5816-42a9-96ea-982b2f541cce",
   "metadata": {},
   "outputs": [],
   "source": [
    "def organize_data (file_name, expiration_date):\n",
    "    df = pd.read_csv(file_name, sep = ',', names = ['Expiration Date', 'Calls', 'C Last Sale', 'C Net', 'C Bid', 'C Ask', 'C Volume', ' C IV', 'C Delta', 'C Gamma', 'C Open Interest', 'Strike', 'Puts', 'P Last Sale', 'P Net', 'P Bid', 'P Ask', 'P Volume', 'P IV','P Delta', 'P Gamma', 'P Open Interest'], skiprows = 4)\n",
    "\n",
    "    df = df[df['Expiration Date'] == expiration_date]\n",
    "    \n",
    "    df_w = df[df['Calls'].apply(lambda x: 'SPXW' in x)].dropna(how='all').dropna(axis=1, how='all')\n",
    "    df_m = df[df['Calls'].apply(lambda x: 'SPX\\d+' in x)].dropna(how='all').dropna(axis=1, how='all')\n",
    "    \n",
    "    if df_m.empty:\n",
    "        print('There are only weekly options available for this expiration date.')\n",
    "        selected_df = df_w\n",
    "    elif df_w.empty:\n",
    "        print('There are only monthly options available for this expiration date.')\n",
    "        selected_df = df_m\n",
    "    else:\n",
    "        decision = input('Do you want to check monthly or weekly options for arbitrage? Enter w for weekly and m for monthly.')    \n",
    "        if decision == 'w':\n",
    "            selected_df = df_w\n",
    "        elif decision == 'm':\n",
    "            selected_df = df_m\n",
    "    \n",
    "    return selected_df\n",
    "\n",
    "def linear_solver (df):\n",
    "    # creating c vector\n",
    "    long_call_prices = df['C Ask']\n",
    "    short_call_prices = -df['C Bid']\n",
    "    long_put_prices = df['P Ask']\n",
    "    short_put_prices = -df['P Bid']\n",
    "    c = np.concatenate((long_call_prices, short_call_prices, long_put_prices, short_put_prices), axis = 0)\n",
    "    \n",
    "    # creating A matrix\n",
    "    n = len(df['Strike'])\n",
    "    long_call = np.zeros((1, n))\n",
    "    for i in range(n):\n",
    "        new_row = df['Strike'][:i].tolist()[::-1] + [0] * (n - i)\n",
    "        long_call = np.vstack([long_call, new_row])\n",
    "    long_call = np.vstack([long_call, [1] * n])\n",
    "    \n",
    "    short_call = -long_call\n",
    "    \n",
    "    long_put = np.array(df['Strike'][:n].tolist())\n",
    "    for i in range(1,n):\n",
    "        new_row =  [0] * (i) + df['Strike'][:n - i].tolist()\n",
    "        long_put = np.vstack([long_put, new_row])\n",
    "    long_put = np.vstack([long_put, np.zeros((2, n))]) #idk if the slope is right for the puts\n",
    "    short_put = -long_put\n",
    "    \n",
    "    A = -np.hstack([long_call, short_call, long_put, short_put])\n",
    "    \n",
    "    #create b vector\n",
    "    b = np.zeros([n + 2, 1])\n",
    "    \n",
    "    result = scipy.optimize.linprog(c, A_eq = A, b_eq = b, bounds= (0, 100))\n",
    "    np.set_printoptions(suppress = True)\n",
    "    \n",
    "    return result.x, A\n",
    "\n",
    "def arbitrage_output (df):\n",
    "    result, A = linear_solver(df)\n",
    "    bool_arr = result > 0.0001\n",
    "    bool_list = bool_arr.tolist()\n",
    "    \n",
    "    A_len = A.shape[1]\n",
    "    strikes = df['Strike'].to_list()\n",
    "    all_strikes = strikes * 4\n",
    "    \n",
    "    # Displays trades to take advantage of arbitrage\n",
    "    if any(bool_list):\n",
    "        print('Arbitrage Detected')\n",
    "        for n, bool in enumerate(bool_list):\n",
    "            if bool:\n",
    "                if (n+1) / (A_len/4) <= 1:\n",
    "                    print(f'Buy {round(result[n],2)} calls at strike {all_strikes[n]}')\n",
    "                elif (n+1) / (A_len/4) <= 2:\n",
    "                    print(f'Sell {round(result[n],2)} calls at strike {all_strikes[n]}')\n",
    "                elif (n+1) / (A_len/4) <= 3:\n",
    "                    print(f'Buy {round(result[n],2)} puts at strike {all_strikes[n]}')\n",
    "                elif (n+1) / (A_len/4) <= 4:\n",
    "                    print(f'Sell {round(result[n],2)} puts at strike {all_strikes[n]}')\n",
    "    else:\n",
    "        print('No Arbitrage detected')"
   ]
  },
  {
   "cell_type": "code",
   "execution_count": 123,
   "id": "df302e79-a50c-4c91-9fc8-2e13bf64dc15",
   "metadata": {},
   "outputs": [
    {
     "name": "stdout",
     "output_type": "stream",
     "text": [
      "There are only weekly options available for this expiration date.\n",
      "No Arbitrage detected\n"
     ]
    }
   ],
   "source": [
    "# Enter the file name and the selected date in these formats\n",
    "file = 'SPX Options ver 1.csv'\n",
    "expiration_date = 'Fri Dec 17 2021'\n",
    "\n",
    "df = organize_data(file, expiration_date)\n",
    "# arr, A = linear_solver(df)\n",
    "arbitrage_output(df)"
   ]
  },
  {
   "cell_type": "code",
   "execution_count": null,
   "id": "bcf39c92-0937-455b-a279-274ae38c9454",
   "metadata": {},
   "outputs": [],
   "source": []
  }
 ],
 "metadata": {
  "kernelspec": {
   "display_name": "Python 3",
   "language": "python",
   "name": "python3"
  },
  "language_info": {
   "codemirror_mode": {
    "name": "ipython",
    "version": 3
   },
   "file_extension": ".py",
   "mimetype": "text/x-python",
   "name": "python",
   "nbconvert_exporter": "python",
   "pygments_lexer": "ipython3",
   "version": "3.8.8"
  }
 },
 "nbformat": 4,
 "nbformat_minor": 5
}
